{
 "cells": [
  {
   "cell_type": "code",
   "execution_count": 1,
   "metadata": {},
   "outputs": [],
   "source": [
    "from TimeStampLib import TimeStampRequest, parse_tsr\n",
    "\n",
    "from pyasn1_modules.rfc2459 import Extensions\n",
    "from pyasn1.type import tag\n",
    "import random as rd\n",
    "\n",
    "PATH_CERTIFICADO = \"certificado.pem\""
   ]
  },
  {
   "cell_type": "code",
   "execution_count": null,
   "metadata": {},
   "outputs": [
    {
     "ename": "",
     "evalue": "",
     "output_type": "error",
     "traceback": [
      "\u001b[1;31mA execução de células com 'c:\\Users\\Assis\\AppData\\Local\\Programs\\Python\\Python310\\python.exe' requer o pacote ipykernel.\n",
      "\u001b[1;31mExecute o seguinte comando para instalar \"ipykernel\" no ambiente do Python. \n",
      "\u001b[1;31mComando: \"c:/Users/Assis/AppData/Local/Programs/Python/Python310/python.exe -m pip install ipykernel -U --user --force-reinstall\""
     ]
    }
   ],
   "source": [
    "# EN.VI.01.2\n",
    "\n",
    "request = TimeStampRequest(url=\"http://192.168.88.25/tsp\", data=\"\".join('{:02x}'.format(x) for x in rd.randbytes(32)))\n",
    "tsr = request.send_query()\n",
    "parse_tsr(tsr)"
   ]
  },
  {
   "cell_type": "code",
   "execution_count": null,
   "metadata": {},
   "outputs": [
    {
     "ename": "",
     "evalue": "",
     "output_type": "error",
     "traceback": [
      "\u001b[1;31mA execução de células com 'c:\\Users\\Assis\\AppData\\Local\\Programs\\Python\\Python310\\python.exe' requer o pacote ipykernel.\n",
      "\u001b[1;31mRun the following command to install 'ipykernel' into the Python environment. \n",
      "\u001b[1;31mCommand: 'c:/Users/Assis/AppData/Local/Programs/Python/Python310/python.exe -m pip install ipykernel -U --user --force-reinstall'"
     ]
    }
   ],
   "source": [
    "# EN.VI.02.2 e EN.VI.02.3\n",
    "\n",
    "request = TimeStampRequest(url=\"http://192.168.88.25/tsp\", data=\"\".join('{:02x}'.format(x) for x in rd.randbytes(32)), \\\n",
    "                           hash_alg=\"sha256\")\n",
    "tsr = request.send_query()\n",
    "parse_tsr(tsr)\n",
    "\n",
    "\n",
    "request = TimeStampRequest(url=\"http://192.168.88.25/tsp\", data=\"\".join('{:02x}'.format(x) for x in rd.randbytes(32)), \\\n",
    "                           hash_alg=\"sha1\")\n",
    "tsr = request.send_query()\n",
    "parse_tsr(tsr)"
   ]
  },
  {
   "cell_type": "code",
   "execution_count": 4,
   "metadata": {},
   "outputs": [
    {
     "name": "stdout",
     "output_type": "stream",
     "text": [
      "============= Status Infos =============\n",
      "\n",
      "Status:  rejection\n",
      "FailureInfo:  {'bad_alg'}\n",
      "StatusString:  [\"O algoritmo de resumo criptográfico 'codeSigning' não é suportado\"]\n",
      "========================================\n",
      "\n",
      "============= Token Infos ==============\n",
      "Não existe um token.\n",
      "========================================\n",
      "\n"
     ]
    }
   ],
   "source": [
    "# Requisito VI.4\n",
    "\n",
    "\n",
    "request = TimeStampRequest(url=\"http://192.168.88.25/tsp\", data=\"\".join('{:02x}'.format(x) for x in rd.randbytes(32)), \\\n",
    "                           hash_alg=\"invalidSha\")\n",
    "tsr = request.send_query()\n",
    "parse_tsr(tsr)"
   ]
  },
  {
   "cell_type": "code",
   "execution_count": 5,
   "metadata": {},
   "outputs": [
    {
     "name": "stdout",
     "output_type": "stream",
     "text": [
      "============= Status Infos =============\n",
      "\n",
      "Status:  granted\n",
      "FailureInfo:  None\n",
      "StatusString:  None\n",
      "========================================\n",
      "\n",
      "============= Token Infos ==============\n",
      "Version: v1\n",
      "Generation_time: 2023-12-20 17:22:14.171000+00:00\n",
      "Policy: 1.3.6.1.4.1.14975.2.1.0\n",
      "Serial_number: 57\n",
      "Nonce: 14124620331903306424\n",
      "Tem extensions?  True\n",
      "Hash_algorithm: sha256\n",
      "Hashed_message: dfa3125ad86351f718297d4684d50ea0e4a90b0da4ed2e9c6163c9508f89fd0a\n",
      "Tsa:\n",
      "      common_name :  LASPI\n",
      "      country_name :  BR\n",
      "      state_or_province_name :  RJ\n",
      "      locality_name :  Rio de Janeiro\n",
      "      organization_name :  LASPI-UFRJ\n",
      "      email_address :  guimaraes@laspi.ufrj.br\n",
      "      organizational_unit_name :  DEL-UFRJ\n",
      "========================================\n",
      "\n"
     ]
    }
   ],
   "source": [
    "# Requisito VI.5\n",
    "\n",
    "request = TimeStampRequest(url=\"http://192.168.88.25/tsp\", data=\"\".join('{:02x}'.format(x) for x in rd.randbytes(32)), request_policy=True)\n",
    "tsr = request.send_query()\n",
    "parse_tsr(tsr)\n",
    "\n",
    "# verificar se o request_policy "
   ]
  },
  {
   "cell_type": "code",
   "execution_count": 6,
   "metadata": {},
   "outputs": [
    {
     "name": "stdout",
     "output_type": "stream",
     "text": [
      "============= Status Infos =============\n",
      "\n",
      "Status:  granted\n",
      "FailureInfo:  None\n",
      "StatusString:  None\n",
      "========================================\n",
      "\n",
      "============= Token Infos ==============\n",
      "Version: v1\n",
      "Generation_time: 2023-12-20 17:22:14.229000+00:00\n",
      "Policy: 1.3.6.1.4.1.14975.2.1.0\n",
      "Serial_number: 58\n",
      "Nonce: 5031260988326112714\n",
      "Tem extensions?  True\n",
      "Hash_algorithm: sha256\n",
      "Hashed_message: 4dfe0438e4fe1de3fa4b83ba1d18be7725a8b07959d503f65130951efb7d167d\n",
      "Tsa:\n",
      "      common_name :  LASPI\n",
      "      country_name :  BR\n",
      "      state_or_province_name :  RJ\n",
      "      locality_name :  Rio de Janeiro\n",
      "      organization_name :  LASPI-UFRJ\n",
      "      email_address :  guimaraes@laspi.ufrj.br\n",
      "      organizational_unit_name :  DEL-UFRJ\n",
      "========================================\n",
      "\n"
     ]
    }
   ],
   "source": [
    "# Requisito VI.12\n",
    "\n",
    "#certificate = open(PATH_CERTIFICADO, 'rb').read()\n",
    "extensions = Extensions().subtype(implicitTag=tag.Tag(tag.tagClassApplication, tag.tagFormatConstructed, 2)) #pode ser uma lista\n",
    "\n",
    "\n",
    "request = TimeStampRequest(url=\"http://192.168.88.25/tsp\", data=\"laspi\", *extensions)\n",
    "\n",
    "tsr = request.send_query()\n",
    "parse_tsr(tsr)"
   ]
  },
  {
   "cell_type": "code",
   "execution_count": 7,
   "metadata": {},
   "outputs": [],
   "source": [
    "# Requisito VI.12.2"
   ]
  },
  {
   "cell_type": "code",
   "execution_count": null,
   "metadata": {},
   "outputs": [
    {
     "ename": "",
     "evalue": "",
     "output_type": "error",
     "traceback": [
      "\u001b[1;31mA execução de células com 'c:\\Users\\Assis\\AppData\\Local\\Programs\\Python\\Python310\\python.exe' requer o pacote ipykernel.\n",
      "\u001b[1;31mRun the following command to install 'ipykernel' into the Python environment. \n",
      "\u001b[1;31mCommand: 'c:/Users/Assis/AppData/Local/Programs/Python/Python310/python.exe -m pip install ipykernel -U --user --force-reinstall'"
     ]
    }
   ],
   "source": [
    "request = TimeStampRequest(url=\"http://192.168.88.25/tsp\", data=\"\".join('{:02x}'.format(x) for x in rd.randbytes(32)), \\\n",
    "                           hash_alg=\"sha1\")\n",
    "tsr = request.send_query()\n",
    "parse_tsr(tsr)\n",
    "\n",
    "request = TimeStampRequest(url=\"http://192.168.88.25/tsp\", data=\"\".join('{:02x}'.format(x) for x in rd.randbytes(32)), \\\n",
    "                           hash_alg=\"sha256\")\n",
    "tsr = request.send_query()\n",
    "parse_tsr(tsr)\n",
    "\n",
    "request = TimeStampRequest(url=\"http://192.168.88.25/tsp\", data=\"\".join('{:02x}'.format(x) for x in rd.randbytes(32)), \\\n",
    "                           hash_alg=\"sha512\")\n",
    "tsr = request.send_query()\n",
    "parse_tsr(tsr)"
   ]
  }
 ],
 "metadata": {
  "kernelspec": {
   "display_name": "Python 3",
   "language": "python",
   "name": "python3"
  },
  "language_info": {
   "codemirror_mode": {
    "name": "ipython",
    "version": 3
   },
   "file_extension": ".py",
   "mimetype": "text/x-python",
   "name": "python",
   "nbconvert_exporter": "python",
   "pygments_lexer": "ipython3",
   "version": "3.10.0"
  }
 },
 "nbformat": 4,
 "nbformat_minor": 2
}
